{
 "cells": [
  {
   "cell_type": "markdown",
   "id": "1a5c65ab",
   "metadata": {},
   "source": [
    "## Holiday Preferences"
   ]
  },
  {
   "cell_type": "markdown",
   "id": "0c1cea9b",
   "metadata": {},
   "source": [
    "## Table Of Contents:\n",
    "* [Things to do](#first-point)\n",
    "* [Video Intro](#second-point)"
   ]
  },
  {
   "cell_type": "markdown",
   "id": "5199c0e1",
   "metadata": {},
   "source": [
    "### Things like to do in the holiday destination <a class=\"anchor\" name=\"first-point\"></a>\n",
    "\n",
    "- Swimming\n",
    "- Partying\n",
    "- Sun Pathing"
   ]
  },
  {
   "cell_type": "markdown",
   "id": "b3aaaa67",
   "metadata": {},
   "source": [
    "### coloreful text"
   ]
  },
  {
   "cell_type": "markdown",
   "id": "8c0a9f8f",
   "metadata": {},
   "source": [
    "<font color='green'>red  text</font>"
   ]
  },
  {
   "cell_type": "markdown",
   "id": "f8a4c95e",
   "metadata": {},
   "source": [
    "### user input"
   ]
  },
  {
   "cell_type": "code",
   "execution_count": null,
   "id": "796f1ef2",
   "metadata": {},
   "outputs": [],
   "source": [
    "input(\"please enter your holiday preferences\")"
   ]
  },
  {
   "cell_type": "markdown",
   "id": "0dc9d308",
   "metadata": {},
   "source": [
    "### Video Intro <a class=\"anchor\" name=\"second-point\"></a>"
   ]
  },
  {
   "cell_type": "code",
   "execution_count": 4,
   "id": "244748cd",
   "metadata": {},
   "outputs": [
    {
     "name": "stderr",
     "output_type": "stream",
     "text": [
      "/opt/anaconda3/envs/DA_Env/lib/python3.9/site-packages/IPython/core/display.py:724: UserWarning: Consider using IPython.display.IFrame instead\n",
      "  warnings.warn(\"Consider using IPython.display.IFrame instead\")\n"
     ]
    },
    {
     "data": {
      "text/html": [
       "<iframe width=\"560\" height=\"315\" src=\"https://www.youtube.com/embed/R4BVe-5VEZ8\" title=\"YouTube video player\" frameborder=\"0\" allow=\"accelerometer; autoplay; clipboard-write; encrypted-media; gyroscope; picture-in-picture\" allowfullscreen></iframe>"
      ],
      "text/plain": [
       "<IPython.core.display.HTML object>"
      ]
     },
     "execution_count": 4,
     "metadata": {},
     "output_type": "execute_result"
    }
   ],
   "source": [
    "from IPython.display import HTML\n",
    "\n",
    "# Youtube\n",
    "HTML('<iframe width=\"560\" height=\"315\" src=\"https://www.youtube.com/embed/R4BVe-5VEZ8\" title=\"YouTube video player\" frameborder=\"0\" allow=\"accelerometer; autoplay; clipboard-write; encrypted-media; gyroscope; picture-in-picture\" allowfullscreen></iframe>')"
   ]
  },
  {
   "cell_type": "code",
   "execution_count": null,
   "id": "1a7be485",
   "metadata": {},
   "outputs": [],
   "source": []
  }
 ],
 "metadata": {
  "kernelspec": {
   "display_name": "Python 3",
   "language": "python",
   "name": "python3"
  },
  "language_info": {
   "codemirror_mode": {
    "name": "ipython",
    "version": 3
   },
   "file_extension": ".py",
   "mimetype": "text/x-python",
   "name": "python",
   "nbconvert_exporter": "python",
   "pygments_lexer": "ipython3",
   "version": "3.9.6"
  }
 },
 "nbformat": 4,
 "nbformat_minor": 5
}
